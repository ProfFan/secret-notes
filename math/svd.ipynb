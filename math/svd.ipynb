{
 "metadata": {
  "language_info": {
   "codemirror_mode": {
    "name": "ipython",
    "version": 3
   },
   "file_extension": ".py",
   "mimetype": "text/x-python",
   "name": "python",
   "nbconvert_exporter": "python",
   "pygments_lexer": "ipython3",
   "version": "3.8.5-final"
  },
  "orig_nbformat": 2,
  "kernelspec": {
   "name": "python3",
   "display_name": "Python 3"
  }
 },
 "nbformat": 4,
 "nbformat_minor": 2,
 "cells": [
  {
   "source": [
    "# Singular Value Decomposition\n",
    "\n",
    "Let’s talk about SVD.\n",
    "\n",
    ":::{note}\n",
    "This is a casual introduction so could be inaccurate.\n",
    ":::\n",
    "\n",
    "First, why do we want SVD?"
   ],
   "cell_type": "markdown",
   "metadata": {}
  },
  {
   "source": [
    "Let's watch from a geometric perspective (courtesy [this blog](http://www.ams.org/publicoutreach/feature-column/fcarc-svd))\n",
    "\n",
    "Imagine a box of size $(1, 1)$ is put on a 2D coordinate frame:"
   ],
   "cell_type": "markdown",
   "metadata": {}
  },
  {
   "cell_type": "code",
   "execution_count": 14,
   "metadata": {},
   "outputs": [],
   "source": [
    "import matplotlib.pyplot as plt\n",
    "import numpy as np\n",
    "%matplotlib inline\n",
    "plt.style.use('seaborn')\n",
    "%config InlineBackend.figure_formats = ['retina']"
   ]
  },
  {
   "cell_type": "code",
   "execution_count": 15,
   "metadata": {},
   "outputs": [],
   "source": [
    "import sympy\n",
    "from sympy import Matrix\n",
    "sympy.init_printing(use_latex=\"mathjax\")"
   ]
  },
  {
   "cell_type": "code",
   "execution_count": 16,
   "metadata": {},
   "outputs": [],
   "source": [
    "v = np.array([[0, 1, 1, 0], [0, 0, 1, 1]]) # A square box\n",
    "M = np.array([[1, 1], [0, 1]]) # A linear transform"
   ]
  },
  {
   "cell_type": "code",
   "execution_count": 17,
   "metadata": {},
   "outputs": [
    {
     "output_type": "display_data",
     "data": {
      "text/plain": "<Figure size 432x216 with 2 Axes>",
      "image/png": "[encoded data removed]"
     },
     "metadata": {
      "image/png": {
       "width": 370,
       "height": 186
      }
     }
    }
   ],
   "source": [
    "fig, axs = plt.subplots(1, 2, figsize=(6, 3))\n",
    "def plot_boxes(fig, axs, v0, Mv0):\n",
    "    _ = [ax.set_xlim(-1, 5) for ax in axs]\n",
    "    _ = [ax.set_ylim(-1, 5) for ax in axs]\n",
    "    _ = [ax.xaxis.set_major_locator(plt.MultipleLocator(1.0)) for ax in axs]\n",
    "    _ = [ax.set_aspect(\"equal\") for ax in axs]\n",
    "    axs[0].fill(v0[0], v0[1])\n",
    "    axs[1].fill(Mv0[0], Mv0[1])\n",
    "plot_boxes(fig, axs, v, M @ v)\n",
    "fig.show()"
   ]
  },
  {
   "source": [
    "What does the eigenvalues and eigenvectors tell us? Well here it is:"
   ],
   "cell_type": "markdown",
   "metadata": {}
  },
  {
   "cell_type": "code",
   "execution_count": 18,
   "metadata": {},
   "outputs": [
    {
     "output_type": "execute_result",
     "data": {
      "text/plain": "⎛⎡1.0⎤  ⎡1.0          -1.0        ⎤⎞\n⎜⎢   ⎥, ⎢                         ⎥⎟\n⎝⎣1.0⎦  ⎣0.0  2.22044604925031e-16⎦⎠",
      "text/latex": "$\\displaystyle \\left( \\left[\\begin{matrix}1.0\\\\1.0\\end{matrix}\\right], \\  \\left[\\begin{matrix}1.0 & -1.0\\\\0.0 & 2.22044604925031 \\cdot 10^{-16}\\end{matrix}\\right]\\right)$"
     },
     "metadata": {},
     "execution_count": 18
    }
   ],
   "source": [
    "(D, X) = np.linalg.eig(M)\n",
    "(Matrix(D), Matrix(X))"
   ]
  },
  {
   "source": [
    "The only result from this is that the direction for a vector is preserved only when it's a multiple of $(1, -1)$, which is demonstrated by"
   ],
   "cell_type": "markdown",
   "metadata": {}
  },
  {
   "cell_type": "code",
   "execution_count": 19,
   "metadata": {},
   "outputs": [
    {
     "output_type": "display_data",
     "data": {
      "text/plain": "<Figure size 432x216 with 2 Axes>",
      "image/png": "[encoded data removed]"
     },
     "metadata": {
      "image/png": {
       "width": 370,
       "height": 186
      }
     }
    }
   ],
   "source": [
    "fig, axs = plt.subplots(1, 2, figsize=(6, 3))\n",
    "plot_boxes(fig, axs, v, M @ v)\n",
    "axs[0].arrow(0, 0, X[0,0], X[0,1], head_width=0.2)\n",
    "axs[1].arrow(0, 0, (M @ X)[0,0], (M @ X)[0,1], head_width=0.2, color=\"b\")\n",
    "fig.show()"
   ]
  },
  {
   "source": [
    "We would then wonder: is there a better way to characterize the *effect* of a linear transformation? \n",
    "\n",
    "Turns out there is. Let's try rotating the box and observe the result:"
   ],
   "cell_type": "markdown",
   "metadata": {}
  },
  {
   "cell_type": "code",
   "execution_count": 20,
   "metadata": {},
   "outputs": [],
   "source": [
    "from ipywidgets import interact, interactive, fixed, interact_manual\n",
    "import ipywidgets as widgets"
   ]
  },
  {
   "cell_type": "code",
   "execution_count": 21,
   "metadata": {},
   "outputs": [
    {
     "output_type": "display_data",
     "data": {
      "text/plain": "interactive(children=(FloatSlider(value=1.05, description='angle', max=1.5, min=-1.5, step=0.05), Output()), _…",
      "application/vnd.jupyter.widget-view+json": {
       "version_major": 2,
       "version_minor": 0,
       "model_id": "8d04bd917c384475ac13a991b33a57af"
      }
     },
     "metadata": {}
    }
   ],
   "source": [
    "def dynamic_tranform_effect(angle: float):\n",
    "    R = np.array([\n",
    "        [np.cos(angle), -np.sin(angle)],\n",
    "        [np.sin(angle), np.cos(angle)]\n",
    "    ])\n",
    "    fig, axs = plt.subplots(1, 2, figsize=(6, 3))\n",
    "    plot_boxes(fig, axs, R @ v, M @ R @ v)\n",
    "    axs[0].arrow(0, 0, (R @ v)[0,3], (R @ v)[1,3], head_width=0.2, color='r')\n",
    "    axs[0].arrow(0, 0, (R @ v)[0,1], (R @ v)[1,1], head_width=0.2, color='r')\n",
    "    axs[1].arrow(0, 0, (M @ R @ v)[0,3], (M @ R @ v)[1,3], head_width=0.2, color='r')\n",
    "    axs[1].arrow(0, 0, (M @ R @ v)[0,1], (M @ R @ v)[1,1], head_width=0.2, color='r')\n",
    "    plt.show()\n",
    "interact(dynamic_tranform_effect, angle=widgets.FloatSlider(min=-1.5,max=1.5,step=0.05,value=1.05));"
   ]
  },
  {
   "source": [
    "For readers not using the Jupyter version, here is the plot at optimum:"
   ],
   "cell_type": "markdown",
   "metadata": {}
  },
  {
   "cell_type": "code",
   "execution_count": 22,
   "metadata": {},
   "outputs": [
    {
     "output_type": "display_data",
     "data": {
      "text/plain": "<Figure size 432x216 with 2 Axes>",
      "image/png": "[encoded data removed]"
     },
     "metadata": {
      "image/png": {
       "width": 370,
       "height": 186
      }
     }
    }
   ],
   "source": [
    "dynamic_tranform_effect(1.05)"
   ]
  },
  {
   "source": [
    "We can see clearly that the box is still a box after the transform $M$. More formally, this means that the two vectors are still orthogonal after $M$:\n",
    "\\begin{align}\n",
    "    (Mv_1)^T(Mv_2) = 0\n",
    "\\end{align}\n",
    "\n",
    "Similar to the notation for eigenvalues, we denote $Mv_1 = \\sigma_1 u_1$, $Mv_2 = \\sigma_2 u_2$, thus for any vector $v$, we have\n",
    "\\begin{equation}\n",
    "    v = (v_1^Tv)v_1 + (v_2^Tv) v_2\n",
    "\\end{equation}\n",
    "\n",
    "\\begin{equation}\n",
    "    Mv = \\sigma_1 u_1 v_1^Tv + \\sigma_2 u_2 v_2^Tv\n",
    "    \\label{eq_svd_2d}\n",
    "\\end{equation}\n",
    "\n",
    "Since the above equation works for any $v$, we have\n",
    "\\begin{equation}\n",
    "    M = u_1 \\sigma_1  v_1^T + u_2 \\sigma_2 v_2^T\n",
    "\\end{equation}\n",
    "\n",
    "In a more modern form:\n",
    "\n",
    "(svd_def)=\n",
    "```{proof:definition} SVD\n",
    "$$\n",
    "    M = U\\Sigma V^T\n",
    "$$\n",
    "```\n",
    "\n",
    "Since $\\sigma_i$ and $v_i$ are all unit orthogonal, we know that $U$ and $V$ are unitary.\n"
   ],
   "cell_type": "markdown",
   "metadata": {}
  },
  {
   "source": [
    "Now the problem is, how can we calculate the SVD ({numref}`svd_def`) of $M$?\n",
    "\n",
    "An approach (Trefethen and Bau) is to consider the following symmetric matrix:\n",
    "\\begin{equation}\n",
    "    \\tilde A=\\begin{bmatrix}\n",
    "        0 & A^T \\\\\n",
    "        A & 0\n",
    "    \\end{bmatrix}\n",
    "\\end{equation}\n",
    "\n",
    "which has an eigendecomposition of\n",
    "\\begin{equation}\n",
    "    \\tilde A=\\begin{bmatrix}\n",
    "        V & V \\\\\n",
    "        U & -U\n",
    "    \\end{bmatrix}\\begin{bmatrix}\n",
    "        \\Sigma & 0 \\\\\n",
    "        0 & -\\Sigma\n",
    "    \\end{bmatrix}\\begin{bmatrix}\n",
    "        V & V \\\\\n",
    "        U & -U\n",
    "    \\end{bmatrix}^{-1}\n",
    "\\end{equation}"
   ],
   "cell_type": "markdown",
   "metadata": {}
  },
  {
   "source": [
    "We can try the above procedure with sympy:"
   ],
   "cell_type": "markdown",
   "metadata": {}
  },
  {
   "cell_type": "code",
   "execution_count": 81,
   "metadata": {},
   "outputs": [
    {
     "output_type": "execute_result",
     "data": {
      "text/plain": "⎡0  0  1  0⎤\n⎢          ⎥\n⎢0  0  1  1⎥\n⎢          ⎥\n⎢1  1  0  0⎥\n⎢          ⎥\n⎣0  1  0  0⎦",
      "text/latex": "$\\displaystyle \\left[\\begin{array}{cccc}0 & 0 & 1 & 0\\\\0 & 0 & 1 & 1\\\\1 & 1 & 0 & 0\\\\0 & 1 & 0 & 0\\end{array}\\right]$"
     },
     "metadata": {},
     "execution_count": 81
    }
   ],
   "source": [
    "import sympy as sp\n",
    "M_s = sp.Matrix([[1, 1], [0, 1]])\n",
    "M_tlide = sp.Matrix(sp.BlockMatrix([[sp.ZeroMatrix(2, 2), M_s.T], [M_s, sp.ZeroMatrix(2, 2)]]))\n",
    "M_tlide"
   ]
  },
  {
   "cell_type": "code",
   "execution_count": 82,
   "metadata": {},
   "outputs": [
    {
     "output_type": "execute_result",
     "data": {
      "text/plain": "⎛                                      ⎡  1   √5                          ⎤⎞\n⎜                                      ⎢- ─ + ──    0       0        0    ⎥⎟\n⎜⎡   -1       1       1        -1   ⎤  ⎢  2   2                           ⎥⎟\n⎜⎢                                  ⎥  ⎢                                  ⎥⎟\n⎜⎢  1   √5  1   √5  1   √5    √5   1⎥  ⎢          1   √5                  ⎥⎟\n⎜⎢- ─ + ──  ─ - ──  ─ + ──  - ── - ─⎥  ⎢   0      ─ - ──    0        0    ⎥⎟\n⎜⎢  2   2   2   2   2   2     2    2⎥  ⎢          2   2                   ⎥⎟\n⎜⎢                                  ⎥, ⎢                                  ⎥⎟\n⎜⎢ 1   √5   1   √5  1   √5   1   √5 ⎥  ⎢                  1   √5          ⎥⎟\n⎜⎢ ─ - ──   ─ - ──  ─ + ──   ─ + ── ⎥  ⎢   0        0     ─ + ──     0    ⎥⎟\n⎜⎢ 2   2    2   2   2   2    2   2  ⎥  ⎢                  2   2           ⎥⎟\n⎜⎢                                  ⎥  ⎢                                  ⎥⎟\n⎜⎣   1        1       1        1    ⎦  ⎢                            √5   1⎥⎟\n⎜                                      ⎢   0        0       0     - ── - ─⎥⎟\n⎝                                      ⎣                            2    2⎦⎠",
      "text/latex": "$\\displaystyle \\left( \\left[\\begin{matrix}-1 & 1 & 1 & -1\\\\- \\frac{1}{2} + \\frac{\\sqrt{5}}{2} & \\frac{1}{2} - \\frac{\\sqrt{5}}{2} & \\frac{1}{2} + \\frac{\\sqrt{5}}{2} & - \\frac{\\sqrt{5}}{2} - \\frac{1}{2}\\\\\\frac{1}{2} - \\frac{\\sqrt{5}}{2} & \\frac{1}{2} - \\frac{\\sqrt{5}}{2} & \\frac{1}{2} + \\frac{\\sqrt{5}}{2} & \\frac{1}{2} + \\frac{\\sqrt{5}}{2}\\\\1 & 1 & 1 & 1\\end{matrix}\\right], \\  \\left[\\begin{matrix}- \\frac{1}{2} + \\frac{\\sqrt{5}}{2} & 0 & 0 & 0\\\\0 & \\frac{1}{2} - \\frac{\\sqrt{5}}{2} & 0 & 0\\\\0 & 0 & \\frac{1}{2} + \\frac{\\sqrt{5}}{2} & 0\\\\0 & 0 & 0 & - \\frac{\\sqrt{5}}{2} - \\frac{1}{2}\\end{matrix}\\right]\\right)$"
     },
     "metadata": {},
     "execution_count": 82
    }
   ],
   "source": [
    "Q, L = M_tlide.diagonalize()\n",
    "Q, L"
   ]
  },
  {
   "cell_type": "code",
   "execution_count": 83,
   "metadata": {
    "tags": []
   },
   "outputs": [],
   "source": [
    "sigma_1, sigma_2 = M_s.singular_values()"
   ]
  },
  {
   "cell_type": "code",
   "execution_count": 84,
   "metadata": {},
   "outputs": [
    {
     "output_type": "execute_result",
     "data": {
      "text/plain": "⎛1   √5    1   √5⎞\n⎜─ + ──, - ─ + ──⎟\n⎝2   2     2   2 ⎠",
      "text/latex": "$\\displaystyle \\left( \\frac{1}{2} + \\frac{\\sqrt{5}}{2}, \\  - \\frac{1}{2} + \\frac{\\sqrt{5}}{2}\\right)$"
     },
     "metadata": {},
     "execution_count": 84
    }
   ],
   "source": [
    "sp.sqrtdenest(sigma_1).simplify(), sp.sqrtdenest(sigma_2).simplify()"
   ]
  },
  {
   "source": [
    "Immediate we see that the eigenvalues of $A$ are the absolute values of the eigenvalues of $\\tilde A$, which happens to be the Golden Ratio!"
   ],
   "cell_type": "markdown",
   "metadata": {}
  },
  {
   "source": [
    "However this still does not immediately give us the SVD, since the eigendecomposition is not unique. We need to rearrange the result.\n",
    "\n"
   ],
   "cell_type": "markdown",
   "metadata": {}
  },
  {
   "cell_type": "code",
   "execution_count": null,
   "metadata": {},
   "outputs": [],
   "source": []
  }
 ]
}