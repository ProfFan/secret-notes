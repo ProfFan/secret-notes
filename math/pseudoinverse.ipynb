{
 "metadata": {
  "language_info": {
   "codemirror_mode": {
    "name": "ipython",
    "version": 3
   },
   "file_extension": ".py",
   "mimetype": "text/x-python",
   "name": "python",
   "nbconvert_exporter": "python",
   "pygments_lexer": "ipython3",
   "version": 3
  },
  "orig_nbformat": 2
 },
 "nbformat": 4,
 "nbformat_minor": 2,
 "cells": [
  {
   "source": [
    "# Pseudo-inverse"
   ],
   "cell_type": "markdown",
   "metadata": {}
  },
  {
   "source": [
    "Pseudo-inverse (Moore-Penrose Pseudoinverse) is a generalization of the normal matrix inverse."
   ],
   "cell_type": "markdown",
   "metadata": {}
  },
  {
   "source": [
    "## Calculation using SVD\n",
    "\n",
    "From {ref}`svd_def` we know that\n",
    "\n",
    "$$\n",
    "M=U\\Sigma V^{T}\n",
    "$$"
   ],
   "cell_type": "markdown",
   "metadata": {}
  },
  {
   "source": [
    "Since both $U$ $V$ are orthonormal we can easily invert them, thus the pseudoinverse is given by\n",
    "\n",
    "\n",
    "(pinv_svd_def)=\n",
    "```{proof:definition} Pseudoinverse with SVD\n",
    "$$\n",
    "    M^\\dagger = V\\Sigma^\\dagger U^T\n",
    "$$\n",
    "\n",
    "where $\\Sigma^\\dagger$ is the pseudoinverse of $\\Sigma$, which is easily calculated by taking the multiplicative inverse of each diagonal and transpose the whole matrix.\n",
    "```\n"
   ],
   "cell_type": "markdown",
   "metadata": {}
  },
  {
   "source": [
    "## Calculation using Corrieu05\n",
    "\n"
   ],
   "cell_type": "markdown",
   "metadata": {}
  },
  {
   "cell_type": "code",
   "execution_count": null,
   "metadata": {},
   "outputs": [],
   "source": []
  }
 ]
}